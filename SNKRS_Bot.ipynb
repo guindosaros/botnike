{
 "cells": [
  {
   "cell_type": "markdown",
   "metadata": {},
   "source": [
    "# Import des packages"
   ]
  },
  {
   "cell_type": "code",
   "execution_count": 70,
   "metadata": {},
   "outputs": [],
   "source": [
    "import selenium\n",
    "from selenium import webdriver\n",
    "from selenium.common.exceptions import TimeoutException\n",
    "from selenium.webdriver.support.ui import WebDriverWait\n",
    "from selenium.webdriver.support import expected_conditions as EC\n",
    "from selenium.webdriver.common.by import By\n",
    "import time"
   ]
  },
  {
   "cell_type": "markdown",
   "metadata": {},
   "source": [
    "# Paramètres"
   ]
  },
  {
   "cell_type": "code",
   "execution_count": 71,
   "metadata": {},
   "outputs": [],
   "source": [
    "## Info connexion\n",
    "usermail = \"mohamedsaros@gmail.com\"\n",
    "userpass= \"Momo2020\"\n",
    "## Path driver\n",
    "path_driver = \"C:/chromedriver/chromedriver\"\n",
    "wait_time = 10\n",
    "## Url\n",
    "url = \"https://www.nike.com/fr/launch\"\n",
    "shoe_url = \"https://www.nike.com/fr/launch/t/air-max-95-ndstrkt-black\"\n",
    "## Shoe size\n",
    "shoe_size =  36.5\n",
    "## Code carte crédit\n",
    "cvv_code = 333"
   ]
  },
  {
   "cell_type": "markdown",
   "metadata": {},
   "source": [
    "# Fonctions"
   ]
  },
  {
   "cell_type": "code",
   "execution_count": 72,
   "metadata": {},
   "outputs": [],
   "source": [
    "### E1 : Connexion\n",
    "def user_connexion(usermail, userpass, path_driver,wait_time =10):\n",
    "    url = \"https://www.nike.com/fr/launch\"\n",
    "    ### Création de l'objet driver\n",
    "    #Chemin jusqu'au driver\n",
    "    path_to_web_driver = path_driver\n",
    "    #On charge le driver\n",
    "    driver=webdriver.Chrome(path_to_web_driver)\n",
    "    driver.implicitly_wait(0) #Seconde d'attente avant quelconque opération\n",
    "    ### Accès au site\n",
    "    driver.get(url)\n",
    "    ### Wait pour exécuter code\n",
    "    connexion_xpath = '//button[@class=\"join-log-in text-color-grey prl3-sm pt2-sm pb2-sm fs12-sm d-sm-b\"]'\n",
    "    wait = WebDriverWait(driver, wait_time).until(EC.visibility_of_element_located((By.XPATH,connexion_xpath)))\n",
    "    try: \n",
    "        ###Navigation\n",
    "        ## Aller sur la page de connexion\n",
    "        driver.find_element_by_xpath(connexion_xpath).click()\n",
    "        ## Completion du mdp et du pass\n",
    "        # Identiifcation des Text box et exécution des commandes\n",
    "        mail_xpath = '/html/body/div[2]/div/div/div[2]/div/div/div/div/div/div/div/div/div/div/div/div/div/div/div[2]/form/div[2]/input'\n",
    "        pass_xpath = '/html/body/div[2]/div/div/div[2]/div/div/div/div/div/div/div/div/div/div/div/div/div/div/div[2]/form/div[3]/input'\n",
    "        driver.find_element_by_xpath(mail_xpath).send_keys(usermail)\n",
    "        driver.find_element_by_xpath(pass_xpath).send_keys(userpass)\n",
    "        ## Connexion sur la page\n",
    "        bttn_connex_xpath = '/html/body/div[2]/div/div/div[2]/div/div/div/div/div/div/div/div/div/div/div/div/div/div/div[2]/form/div[6]/input'\n",
    "        driver.find_element_by_xpath(bttn_connex_xpath).click()\n",
    "        status = True\n",
    "    except:\n",
    "        status = False\n",
    "    #wait = WebDriverWait(driver, wait_time).until(EC.visibility_of_element_located((By.XPATH,connexion_xpath)))\n",
    "    return driver, status"
   ]
  },
  {
   "cell_type": "code",
   "execution_count": 73,
   "metadata": {},
   "outputs": [],
   "source": [
    "### E2 : Sélection de la pointure\n",
    "def add_shoe_basket(driver, shoe_url, size,wait_time=10, freq=0.1):\n",
    "    # Pour les essais\n",
    "    status= False\n",
    "    itermax=int(wait_time/freq)\n",
    "    available=False\n",
    "    ### E0 : Accès à la page\n",
    "    driver.get(shoe_url)\n",
    "    ### E1 : Trouver la taille\n",
    "    cpt=0\n",
    "    while available == False and cpt<=itermax:\n",
    "        try:\n",
    "            find_size = driver.find_element_by_xpath('//button[contains(text(), \"EU {}\")]'.format(size))\n",
    "            driver.execute_script(\"arguments[0].scrollIntoView(true);\", find_size)\n",
    "            find_size.click()\n",
    "            #Check classroot for validate the class has been chosen\n",
    "            getElementClassRoot = find_size.find_element_by_xpath('..')\n",
    "            if \"selected\" in getElementClassRoot.get_attribute('class'):\n",
    "                available=True\n",
    "                print(f\"Iterations pour trouver la taille : {cpt}/{itermax} \")\n",
    "        except:\n",
    "            time.sleep(freq)\n",
    "            cpt+=1\n",
    "    ### E2 : Ajouter la carte\n",
    "    if available ==True:\n",
    "        xpath_add_cart = '//*[@data-qa=\"add-to-cart\"]'\n",
    "        status = False\n",
    "        wait = WebDriverWait(driver, wait_time).until(EC.element_to_be_clickable((By.XPATH,xpath_add_cart)))\n",
    "        cpt = 0\n",
    "        while status == False and cpt<=itermax:\n",
    "            try: \n",
    "                add_card_btn = driver.find_element_by_xpath(xpath_add_cart)\n",
    "                add_card_btn.click()\n",
    "                status=True\n",
    "                print(f\"Iterations pour ajouter à la carte : {cpt}/{itermax} \")\n",
    "            except:\n",
    "                time.sleep(freq)\n",
    "                cpt+=1\n",
    "    print(\"Chaussure ajoutée au panier\")\n",
    "    return driver, available"
   ]
  },
  {
   "cell_type": "code",
   "execution_count": 74,
   "metadata": {},
   "outputs": [],
   "source": [
    "### E3 : Aller au panier\n",
    "def go_checkout(driver):\n",
    "    url_checkout = \"https://www.nike.com/fr/checkout\"\n",
    "    driver.get(url_checkout)\n",
    "    return driver"
   ]
  },
  {
   "cell_type": "code",
   "execution_count": 75,
   "metadata": {},
   "outputs": [],
   "source": [
    "### E4 : Exécuter le paiement\n",
    "def execute_payment(driver, secure_code, wait_time=10):\n",
    "    #time.sleep(min(10,wait_time))\n",
    "    ### Param\n",
    "    status= False\n",
    "    itermax =2\n",
    "    cpt =1\n",
    "    iframe_xpath = \"//iframe[@class='credit-card-iframe-cvv mt1 u-full-width']\"\n",
    "    ### Wait till element visible\n",
    "    wait = WebDriverWait(driver, wait_time).until(EC.visibility_of_element_located((By.XPATH,iframe_xpath)))\n",
    "    ### Ajout du cvv\n",
    "    while status == False and cpt <=itermax:\n",
    "        try:\n",
    "            # Sélection & Switch sur le frame\n",
    "            driver.switch_to.frame(driver.find_element_by_xpath(iframe_xpath))\n",
    "            status = True\n",
    "        except:\n",
    "            status=False\n",
    "            cpt+=1\n",
    "            pass\n",
    "    if status ==True:   \n",
    "        # Sélection du cvv\n",
    "        idName = \"cvNumber\"\n",
    "        secure_input = driver.find_element_by_id(idName)\n",
    "        secure_input.clear()\n",
    "        secure_input.send_keys(secure_code)\n",
    "        driver.switch_to.parent_frame()\n",
    "        ## Exécuter le paiement\n",
    "        btnxpath = \"/html/body/div[1]/div/div[3]/div/div[2]/div/div/main/section[3]/div/div[1]/div[2]/div[5]/button\"\n",
    "        wait = WebDriverWait(driver, wait_time).until(EC.visibility_of_element_located((By.XPATH,btnxpath)))\n",
    "        #time.sleep(min(3,wait_time))\n",
    "        driver.find_element_by_xpath(btnxpath).click()\n",
    "    return driver, status"
   ]
  },
  {
   "cell_type": "code",
   "execution_count": 76,
   "metadata": {},
   "outputs": [],
   "source": [
    "### E5 : Valider paiement\n",
    "def validate_checkout(driver, wait_time=10):\n",
    "    #time.sleep(min(3,wait_time))\n",
    "    validate_xpath = \"/html/body/div[1]/div/div[3]/div/div[2]/div/div/main/section[4]/div/div/div/div/section[2]/div/button\"\n",
    "    wait = WebDriverWait(driver, wait_time).until(EC.visibility_of_element_located((By.XPATH,validate_xpath)))\n",
    "    try:\n",
    "        driver.find_element_by_xpath(validate_xpath).click()\n",
    "        status = True\n",
    "    except:\n",
    "        status = False\n",
    "    return driver, status"
   ]
  },
  {
   "cell_type": "code",
   "execution_count": 77,
   "metadata": {},
   "outputs": [],
   "source": [
    "### Fonction pour définir le temps à attendre avant l'exécution du script\n",
    "# Format du temps à attendre : %Y-%m-%d %H:%M:%S -> 2021-02-16 23:54:00\n",
    "def Seconds_Wait_Before_Execute(string_date):\n",
    "    time_exec = time.strptime(string_date,'%Y-%m-%d %H:%M:%S')\n",
    "    time_exec_sec = time.mktime(time_exec)\n",
    "    return max(0, time_exec_sec-time.time())"
   ]
  },
  {
   "cell_type": "markdown",
   "metadata": {},
   "source": [
    "# Fonction Full pour acheter les baskets"
   ]
  },
  {
   "cell_type": "code",
   "execution_count": 78,
   "metadata": {},
   "outputs": [],
   "source": [
    "def Shop_Basket_SNKRS(usermail, userpass, shoe_url,shoe_size,secure,exec_date_time,path_driver,wait_time, wait_bf_exec= True,quit_driver = False):\n",
    "    ### E1 :  Accès et connexion au site\n",
    "    driver, status_connex = user_connexion(usermail, userpass, path_driver,wait_time)\n",
    "    if status_connex==False:\n",
    "        print(\"Connexion impossible\")\n",
    "        return None\n",
    "    else:\n",
    "        print(\"Connexion reussie\")\n",
    "    ### Ewait : Attente avant exécution\n",
    "    if wait_bf_exec==True : \n",
    "        sec_wait = Seconds_Wait_Before_Execute(exec_date_time)\n",
    "        print(\"Wait time : {0}\".format(sec_wait))\n",
    "        time.sleep(max(2, sec_wait))\n",
    "    else:\n",
    "        time.sleep(3)\n",
    "    time_start = time.time()\n",
    "    ### E2 :  Ajout chaussures au panier\n",
    "    driver, available = add_shoe_basket(driver,shoe_url,shoe_size,wait_time)\n",
    "    if available==False:\n",
    "        print(\"Impossible d'ajouter la chaussure au panier\")\n",
    "        return None\n",
    "    ### E3 : Accès à la page de paiement\n",
    "    driver = go_checkout(driver)\n",
    "    ### E4 : Exécuter paiement\n",
    "    driver, status_pay = execute_payment(driver, secure,wait_time)\n",
    "    if status_pay==False:\n",
    "        print(\"Paiement Non execute\")\n",
    "        return None\n",
    "    ### E5 : Valider paiement\n",
    "    driver, status_val = validate_checkout(driver, wait_time)\n",
    "    if status_val==False:\n",
    "        print(\"Paiment non valide\")\n",
    "        return None\n",
    "    print(\"Script bien execute !\")\n",
    "    time_exec = time.time() - time_start\n",
    "    print(f\"Temps d'execution : {time_exec}\")\n",
    "    if quit_driver:\n",
    "        driver.quit()"
   ]
  },
  {
   "cell_type": "code",
   "execution_count": 79,
   "metadata": {},
   "outputs": [],
   "source": [
    "exec_time = \"2021-02-21 07:28:00\""
   ]
  },
  {
   "cell_type": "code",
   "execution_count": 80,
   "metadata": {},
   "outputs": [
    {
     "name": "stdout",
     "output_type": "stream",
     "text": [
      "Connexion reussie\n",
      "Wait time : 0\n",
      "Iterations pour trouver la taille : 1/100 \n",
      "Iterations pour ajouter à la carte : 0/100 \n",
      "Chaussure ajoutée au panier\n",
      "Script bien execute !\n",
      "Temps d'execution : 21.777076482772827\n"
     ]
    }
   ],
   "source": [
    "Shop_Basket_SNKRS(usermail,userpass,shoe_url,shoe_size,cvv_code,exec_time,path_driver,wait_time,True,False)"
   ]
  },
  {
   "cell_type": "code",
   "execution_count": null,
   "metadata": {},
   "outputs": [],
   "source": []
  },
  {
   "cell_type": "code",
   "execution_count": null,
   "metadata": {},
   "outputs": [],
   "source": []
  },
  {
   "cell_type": "code",
   "execution_count": null,
   "metadata": {},
   "outputs": [],
   "source": []
  },
  {
   "cell_type": "code",
   "execution_count": null,
   "metadata": {},
   "outputs": [],
   "source": []
  },
  {
   "cell_type": "code",
   "execution_count": null,
   "metadata": {},
   "outputs": [],
   "source": []
  },
  {
   "cell_type": "code",
   "execution_count": null,
   "metadata": {},
   "outputs": [],
   "source": []
  },
  {
   "cell_type": "code",
   "execution_count": null,
   "metadata": {},
   "outputs": [],
   "source": []
  },
  {
   "cell_type": "code",
   "execution_count": null,
   "metadata": {},
   "outputs": [],
   "source": []
  }
 ],
 "metadata": {
  "kernelspec": {
   "display_name": "Python 3",
   "language": "python",
   "name": "python3"
  },
  "language_info": {
   "codemirror_mode": {
    "name": "ipython",
    "version": 3
   },
   "file_extension": ".py",
   "mimetype": "text/x-python",
   "name": "python",
   "nbconvert_exporter": "python",
   "pygments_lexer": "ipython3",
   "version": "3.9.1"
  }
 },
 "nbformat": 4,
 "nbformat_minor": 4
}
